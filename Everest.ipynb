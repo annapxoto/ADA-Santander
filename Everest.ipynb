{
  "nbformat": 4,
  "nbformat_minor": 0,
  "metadata": {
    "colab": {
      "provenance": [],
      "authorship_tag": "ABX9TyMjaizHt3cUIKTtHPJhNmlJ",
      "include_colab_link": true
    },
    "kernelspec": {
      "name": "python3",
      "display_name": "Python 3"
    },
    "language_info": {
      "name": "python"
    }
  },
  "cells": [
    {
      "cell_type": "markdown",
      "metadata": {
        "id": "view-in-github",
        "colab_type": "text"
      },
      "source": [
        "<a href=\"https://colab.research.google.com/github/annapxoto/ADA-Santander/blob/main/Everest.ipynb\" target=\"_parent\"><img src=\"https://colab.research.google.com/assets/colab-badge.svg\" alt=\"Open In Colab\"/></a>"
      ]
    },
    {
      "cell_type": "code",
      "execution_count": 1,
      "metadata": {
        "colab": {
          "base_uri": "https://localhost:8080/"
        },
        "id": "2N6cgSrlVqQH",
        "outputId": "21946910-ba92-4200-8777-0aa3c97b6416"
      },
      "outputs": [
        {
          "output_type": "stream",
          "name": "stdout",
          "text": [
            "[194, 509, 529, 561, 637]\n"
          ]
        }
      ],
      "source": [
        "minha_lista = [[192, 193, 194], [507, 508, 509],[526, 527, 528, 529], [560, 561], [635, 636, 637]]\n",
        "\n",
        "def ultimoElementoLista2D(lista):\n",
        "\n",
        "\tultimo_elemento = []\n",
        "\n",
        "\tfor l in lista:\n",
        "\t\tultimo_elemento.append(l[-1])\n",
        "\n",
        "\treturn ultimo_elemento\n",
        "\n",
        "print(ultimoElementoLista2D(minha_lista))"
      ]
    },
    {
      "cell_type": "code",
      "source": [
        "def ultimoElemento(listaA):\n",
        "\n",
        "\tif listaA:\n",
        "\t\tultimo = listaA[-1]\n",
        "\t\treturn(ultimo)\n",
        "\n",
        "\n",
        "minha_lista = []\n",
        "print(ultimoElemento(minha_lista))\n"
      ],
      "metadata": {
        "id": "J_HQFH0WVy8I"
      },
      "execution_count": null,
      "outputs": []
    },
    {
      "cell_type": "code",
      "source": [
        "#def ultimoElemento(listaA):\n",
        "  #return [item[-1] for item in listaA]\n",
        "\n",
        "#print (ultimoElemento(lista))"
      ],
      "metadata": {
        "id": "PlTYUMfOdSDB"
      },
      "execution_count": 12,
      "outputs": []
    },
    {
      "cell_type": "code",
      "source": [
        "def adicionarElemento(listaA):\n",
        "\tif 42 in listaA:\n",
        "\t\tlistaA.remove(42)\n",
        "\tif len(listaA)%2 == 0:\n",
        "\t\ti = len(listaA)//2\n",
        "\t\tlistaA.insert(i, 42)\n",
        "\telse:\n",
        "\t\ti = (len(listaA)+1)//2\n",
        "\t\tlistaA.insert(i,42)\n",
        "\treturn listaA\n",
        "\n",
        "minha_lista = []\n",
        "print(adicionarElemento(minha_lista))"
      ],
      "metadata": {
        "id": "_xDCJj7ofQQD"
      },
      "execution_count": null,
      "outputs": []
    },
    {
      "cell_type": "code",
      "source": [
        "def ordena_lista(listaA):\n",
        "\tlistaA.sort(reverse = True)\n",
        "\treturn listaA\n",
        "\n",
        "minha_lista = []\n",
        "print(ordena_lista(minha_lista))"
      ],
      "metadata": {
        "id": "VyOTYjTbo-Y4"
      },
      "execution_count": null,
      "outputs": []
    },
    {
      "cell_type": "code",
      "source": [
        "def calculaPotencia(tuplaA):\n",
        "\ttuplaB = []\n",
        "\tfor i, valor in enumerate(tuplaA):\n",
        "\t\ttuplaB.append(valor**i)\n",
        "\n",
        "\treturn tuplaB\n"
      ],
      "metadata": {
        "id": "DVSQSTWIrJeK"
      },
      "execution_count": 14,
      "outputs": []
    },
    {
      "cell_type": "code",
      "source": [
        "def particionarLista(listaA):\n",
        "\treturn listaA[5:12]"
      ],
      "metadata": {
        "id": "vuud2Ijh2cC1"
      },
      "execution_count": null,
      "outputs": []
    },
    {
      "cell_type": "code",
      "source": [
        "def removerElementosVazios(listaA):\n",
        "    lista_sem_espacos = []\n",
        "    for item in listaA:\n",
        "        item_sem_espacos = item.strip()\n",
        "        if item_sem_espacos:\n",
        "            lista_sem_espacos.append(item_sem_espacos)\n",
        "    return lista_sem_espacos\n",
        "\n",
        "\n",
        "minha_lista = []\n",
        "resultado = removerElementosVazios(minha_lista)\n",
        "print(resultado)\n"
      ],
      "metadata": {
        "id": "bTg-tEb23yFh"
      },
      "execution_count": null,
      "outputs": []
    },
    {
      "cell_type": "code",
      "source": [
        "def retornaPenultimoEQuartoElementodeLista(tuplaA):\n",
        "\tquarto = tuplaA[3]\n",
        "\tpenultimo = tuplaA[-2]\n",
        "\n",
        "\telementos = (quarto, penultimo)\n",
        "\treturn elementos"
      ],
      "metadata": {
        "id": "gY8XAh5E7lPd"
      },
      "execution_count": 29,
      "outputs": []
    }
  ]
}