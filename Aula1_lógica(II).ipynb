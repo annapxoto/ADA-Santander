{
  "nbformat": 4,
  "nbformat_minor": 0,
  "metadata": {
    "colab": {
      "provenance": [],
      "authorship_tag": "ABX9TyPDmkm4UXE/heHaNznzeNKv",
      "include_colab_link": true
    },
    "kernelspec": {
      "name": "python3",
      "display_name": "Python 3"
    },
    "language_info": {
      "name": "python"
    }
  },
  "cells": [
    {
      "cell_type": "markdown",
      "metadata": {
        "id": "view-in-github",
        "colab_type": "text"
      },
      "source": [
        "<a href=\"https://colab.research.google.com/github/annapxoto/ADA-Santander/blob/main/Aula1_l%C3%B3gica(II).ipynb\" target=\"_parent\"><img src=\"https://colab.research.google.com/assets/colab-badge.svg\" alt=\"Open In Colab\"/></a>"
      ]
    },
    {
      "cell_type": "code",
      "execution_count": null,
      "metadata": {
        "colab": {
          "base_uri": "https://localhost:8080/"
        },
        "id": "s8qFWhrR3phd",
        "outputId": "863975c6-1306-482f-ea4b-4fddb38a899c"
      },
      "outputs": [
        {
          "output_type": "stream",
          "name": "stdout",
          "text": [
            "['banana', 'acerola', 'goiaba']\n"
          ]
        }
      ],
      "source": [
        "frutas = []\n",
        "frutas.append(\"banana\")\n",
        "frutas.append(\"acerola\")\n",
        "frutas.append(\"goiaba\")\n",
        "\n",
        "print(frutas)"
      ]
    },
    {
      "cell_type": "code",
      "source": [
        "lista_num = [1,2,3,4,5]\n",
        "soma = sum(lista_num)\n",
        "\n",
        "print(soma)"
      ],
      "metadata": {
        "colab": {
          "base_uri": "https://localhost:8080/"
        },
        "id": "0N5mJpWJ3zGs",
        "outputId": "a1ad4516-ee25-4c34-a9c5-6443a482642b"
      },
      "execution_count": null,
      "outputs": [
        {
          "output_type": "stream",
          "name": "stdout",
          "text": [
            "15\n"
          ]
        }
      ]
    },
    {
      "cell_type": "code",
      "source": [
        "meses = (\"janeiro\", \"fevereiro\", \"março\", \"abril\", \"maio\", \"junho\", \"julho\", \"agosto\", \"setmbro\", \"outubro\", \"novembro\", \"dezembro\")\n",
        "id = int(input(\"Digite um numero de 1 a 12: \"))\n",
        "\n",
        "if id > 0 and id <= 12:\n",
        "  print(\"mês correspondente: \", (meses[(id-1)]))\n",
        "else:\n",
        "  print(\"Insira um número válido!\")"
      ],
      "metadata": {
        "colab": {
          "base_uri": "https://localhost:8080/"
        },
        "id": "63filRBl4YZI",
        "outputId": "8bedfe94-6de3-4c07-96dd-d230dd71e1a0"
      },
      "execution_count": null,
      "outputs": [
        {
          "output_type": "stream",
          "name": "stdout",
          "text": [
            "Digite um numero de 1 a 12: 1\n",
            "mês correspondente:  janeiro\n"
          ]
        }
      ]
    },
    {
      "cell_type": "code",
      "source": [
        "lista = [12, 10, 4, 7]\n",
        "squared = [] #se tivesse dentro do loop seria reiniciado em cada iteração\n",
        "\n",
        "for id in lista:\n",
        "\n",
        "  quad = id**2\n",
        "  squared.append(quad)\n",
        "\n",
        "print (squared)"
      ],
      "metadata": {
        "colab": {
          "base_uri": "https://localhost:8080/"
        },
        "id": "uA-ZI-4oLKaT",
        "outputId": "350f0e86-a4cb-43ab-ca1f-c249224a264b"
      },
      "execution_count": null,
      "outputs": [
        {
          "output_type": "stream",
          "name": "stdout",
          "text": [
            "[144, 100, 16, 49]\n"
          ]
        }
      ]
    },
    {
      "cell_type": "code",
      "source": [
        "#sem função\n",
        "tamanho_lista = int(input(\"Qual o tamanho da sua lista? \"))\n",
        "lista_frutas = []\n",
        "frutas_A = []\n",
        "\n",
        "while len(lista_frutas) < tamanho_lista:\n",
        "  fruta = input(\"Adicione uma fruta a sua lista: \")\n",
        "  lista_frutas.append(fruta)\n",
        "\n",
        "for fruta in lista_frutas:\n",
        "    if fruta[0] == \"a\":\n",
        "      frutas_A.append(fruta)\n",
        "\n",
        "print(frutas_A)"
      ],
      "metadata": {
        "colab": {
          "base_uri": "https://localhost:8080/"
        },
        "id": "2wVkBg7VOHAy",
        "outputId": "89554f48-0677-4020-a721-58d1f82a4ce6"
      },
      "execution_count": null,
      "outputs": [
        {
          "output_type": "stream",
          "name": "stdout",
          "text": [
            "Qual o tamanho da sua lista? 5\n",
            "Adicione uma fruta a sua lista: abacaxi\n",
            "Adicione uma fruta a sua lista: acerola\n",
            "Adicione uma fruta a sua lista: tomate\n",
            "Adicione uma fruta a sua lista: abacate\n",
            "Adicione uma fruta a sua lista: limão\n",
            "['abacaxi', 'acerola', 'abacate']\n"
          ]
        }
      ]
    },
    {
      "cell_type": "code",
      "source": [
        "#com função\n",
        "\n",
        "def filtrar_frutas_com_a(lista_frutas):\n",
        "    return [fruta for fruta in lista_frutas if fruta.startswith('a')]\n",
        "\n",
        "# Solicitar o tamanho da lista\n",
        "tamanho_lista = int(input(\"Qual o tamanho da sua lista? \"))\n",
        "\n",
        "# Criar a lista de frutas\n",
        "lista_frutas = []\n",
        "for i in range(tamanho_lista):\n",
        "    fruta = input(\"Adicione uma fruta à sua lista: \")\n",
        "    lista_frutas.append(fruta)\n",
        "\n",
        "# Filtrar as palavras que começam com 'a'\n",
        "frutas_A = filtrar_frutas_com_a(lista_frutas)\n",
        "\n",
        "# Imprimir os resultados\n",
        "print(\"Lista original:\", lista_frutas)\n",
        "print(\"Frutas que começam com 'a':\", frutas_A)\n"
      ],
      "metadata": {
        "colab": {
          "base_uri": "https://localhost:8080/"
        },
        "id": "j3a76WPwVuZ2",
        "outputId": "24bc985d-b56c-4e9e-adc4-c7c398e034b6"
      },
      "execution_count": 3,
      "outputs": [
        {
          "output_type": "stream",
          "name": "stdout",
          "text": [
            "Qual o tamanho da sua lista? 3\n",
            "Adicione uma fruta à sua lista: abacaxi\n",
            "Adicione uma fruta à sua lista: caqui\n",
            "Adicione uma fruta à sua lista: açaí\n",
            "Lista original: ['abacaxi', 'caqui', 'açaí']\n",
            "Frutas que começam com 'a': ['abacaxi', 'açaí']\n"
          ]
        }
      ]
    },
    {
      "cell_type": "code",
      "source": [
        "tuplas = [(4, 5), (4, ), (8, 6, 7), (1, ), (3, 4, 6, 7)]\n",
        "k = 3 #setada por mim\n",
        "nova_lista= []\n",
        "\n",
        "for listas in tuplas:\n",
        "  if len(listas) != k:\n",
        "    nova_lista.append(listas)\n",
        "\n",
        "print(nova_lista)"
      ],
      "metadata": {
        "colab": {
          "base_uri": "https://localhost:8080/"
        },
        "id": "BApz0_-gSgAi",
        "outputId": "6c8aad9a-9b05-45fb-f61c-e5768a82ee63"
      },
      "execution_count": null,
      "outputs": [
        {
          "output_type": "stream",
          "name": "stdout",
          "text": [
            "[(4, 5), (4,), (1,), (3, 4, 6, 7)]\n"
          ]
        }
      ]
    }
  ]
}
